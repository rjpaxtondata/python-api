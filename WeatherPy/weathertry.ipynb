{
 "cells": [
  {
   "cell_type": "markdown",
   "metadata": {},
   "source": [
    "# WeatherPy\n",
    "----\n",
    "\n",
    "#### Note\n",
    "* Instructions have been included for each segment. You do not have to follow them exactly, but they are included to help you think through the steps."
   ]
  },
  {
   "cell_type": "code",
   "execution_count": 1,
   "metadata": {},
   "outputs": [
    {
     "name": "stdout",
     "output_type": "stream",
     "text": [
      "Requirement already satisfied: citipy in c:\\users\\paxto\\anaconda3\\lib\\site-packages (0.0.5)\n",
      "Requirement already satisfied: kdtree>=0.12 in c:\\users\\paxto\\anaconda3\\lib\\site-packages (from citipy) (0.16)\n"
     ]
    }
   ],
   "source": [
    "#attempt to get citipy to work\n",
    "!pip install citipy\n",
    "from citipy import citipy"
   ]
  },
  {
   "cell_type": "code",
   "execution_count": 2,
   "metadata": {},
   "outputs": [],
   "source": [
    "# import dependencies\n",
    "import matplotlib.pyplot as plt\n",
    "import pandas as pd\n",
    "import numpy as np\n",
    "import requests\n",
    "import time\n",
    "import json\n",
    "import scipy.stats as stat\n",
    "\n",
    "\n",
    "# Import file to read file with API's gkey and weatherapi key\n",
    "from api_keys import g_key\n",
    "from api_keys import weather_api_key\n",
    "\n",
    "#create files to save data\n",
    "\n",
    "#retrieved_data = \"data_cities.csv\"\n",
    "\n",
    "output = \"output_data/cities.csv\"\n",
    "\n",
    "#Generate a range of cities across latitudes and longitudes\n",
    "\n",
    "latrange = (-90, 90)\n",
    "lngrange = (-180, 180)\n",
    "\n"
   ]
  },
  {
   "cell_type": "markdown",
   "metadata": {},
   "source": [
    "## Generate Cities List"
   ]
  },
  {
   "cell_type": "code",
   "execution_count": 3,
   "metadata": {},
   "outputs": [
    {
     "data": {
      "text/plain": [
       "625"
      ]
     },
     "execution_count": 3,
     "metadata": {},
     "output_type": "execute_result"
    }
   ],
   "source": [
    "#generate a count for the number of cities in the city variable\n",
    "\n",
    "locations=[]\n",
    "cities=[]\n",
    "\n",
    "# create variables for lat and long that are random\n",
    "#and span across the earth\n",
    "lat = np.random.uniform(latrange[0], latrange[1], size=1500)\n",
    "lng =  np.random.uniform(lngrange[0], lngrange[1], size=1500)\n",
    "locations = zip(lat, lng)\n",
    "\n",
    "#find cities near the starting and ending points for lng and lat\n",
    "\n",
    "for locations in locations:\n",
    "    city = citipy.nearest_city(locations[0], locations[1]).city_name\n",
    "    \n",
    "    #append cities to the list\n",
    "    if city not in cities:\n",
    "        cities.append(city)\n",
    "\n",
    "#print the number of cities contained in the file\n",
    "len(cities)"
   ]
  },
  {
   "cell_type": "code",
   "execution_count": null,
   "metadata": {},
   "outputs": [],
   "source": [
    "\n",
    "\n",
    "#create an open list of variables\n",
    "\n",
    "city = []\n",
    "clouds = []\n",
    "country = []\n",
    "dates = []\n",
    "humidity = []\n",
    "latitude = []\n",
    "longitude = []\n",
    "temp_high = []\n",
    "wind_speed = []\n",
    "counter = 0\n",
    "\n",
    "\n"
   ]
  },
  {
   "cell_type": "markdown",
   "metadata": {},
   "source": [
    "### Perform API Calls\n",
    "* Perform a weather check on each city using a series of successive API calls.\n",
    "* Include a print log of each city as it'sbeing processed (with the city number and city name).\n"
   ]
  },
  {
   "cell_type": "code",
   "execution_count": 4,
   "metadata": {
    "scrolled": true
   },
   "outputs": [
    {
     "name": "stdout",
     "output_type": "stream",
     "text": [
      "Processing record 1 of Set 1 | chokurdakh\n",
      "Processing record 2 of Set 1 | kamsack\n",
      "Processing record 3 of Set 1 | lorengau\n",
      "Processing record 4 of Set 1 | longyearbyen\n",
      "Processing record 5 of Set 1 | hindupur\n",
      "Processing record 6 of Set 1 | simao\n",
      "Processing record 7 of Set 1 | grindavik\n",
      "Processing record 8 of Set 1 | ati\n",
      "Processing record 9 of Set 1 | vardo\n",
      "Processing record 10 of Set 1 | arcata\n",
      "Processing record 11 of Set 1 | ribeira grande\n",
      "Processing record 12 of Set 1 | coolum beach\n",
      "Processing record 13 of Set 1 | kruisfontein\n",
      "Processing record 14 of Set 1 | hilo\n",
      "Processing record 15 of Set 1 | ponta do sol\n",
      "Processing record 16 of Set 1 | pangobilian\n",
      "Processing record 17 of Set 1 | kutina\n",
      "Processing record 18 of Set 1 | saint-philippe\n",
      "No city found - skip record\n",
      "No city found - skip record\n",
      "Processing record 19 of Set 1 | gunjur\n",
      "Processing record 20 of Set 1 | kapaa\n",
      "Processing record 21 of Set 1 | wilmington\n",
      "Processing record 22 of Set 1 | mackenzie\n",
      "Processing record 23 of Set 1 | acapulco\n",
      "Processing record 24 of Set 1 | chiang klang\n",
      "Processing record 25 of Set 1 | cherskiy\n",
      "Processing record 26 of Set 1 | dikson\n",
      "Processing record 27 of Set 1 | port elizabeth\n",
      "Processing record 28 of Set 1 | rocha\n",
      "Processing record 29 of Set 1 | los llanos de aridane\n",
      "Processing record 30 of Set 1 | villa maria\n",
      "Processing record 31 of Set 1 | wanlaweyn\n",
      "Processing record 32 of Set 1 | bluff\n",
      "Processing record 33 of Set 1 | puerto ayora\n",
      "Processing record 34 of Set 1 | sokolow podlaski\n",
      "Processing record 35 of Set 1 | saskylakh\n",
      "Processing record 36 of Set 1 | new norfolk\n",
      "Processing record 37 of Set 1 | elizabeth city\n",
      "Processing record 38 of Set 1 | sao filipe\n",
      "Processing record 39 of Set 1 | waingapu\n",
      "Processing record 40 of Set 1 | kalmunai\n",
      "Processing record 41 of Set 1 | lakes entrance\n",
      "Processing record 42 of Set 1 | hobart\n",
      "Processing record 43 of Set 1 | norman wells\n",
      "No city found - skip record\n",
      "No city found - skip record\n",
      "Processing record 44 of Set 1 | punta arenas\n",
      "Processing record 45 of Set 1 | homer\n",
      "Processing record 46 of Set 1 | arraial do cabo\n",
      "Processing record 47 of Set 1 | kuito\n",
      "Processing record 48 of Set 1 | nikolskoye\n",
      "Processing record 49 of Set 1 | winnemucca\n",
      "Processing record 50 of Set 1 | mataura\n",
      "Processing record 51 of Set 1 | ushuaia\n",
      "Processing record 52 of Set 1 | sao joao da barra\n",
      "Processing record 53 of Set 1 | basco\n",
      "Processing record 54 of Set 1 | albany\n",
      "Processing record 55 of Set 1 | andenes\n",
      "Processing record 56 of Set 1 | east london\n",
      "No city found - skip record\n",
      "No city found - skip record\n",
      "Processing record 57 of Set 1 | hambantota\n",
      "Processing record 58 of Set 1 | catuday\n",
      "No city found - skip record\n",
      "Processing record 59 of Set 1 | thompson\n",
      "Processing record 60 of Set 1 | bridlington\n",
      "Processing record 61 of Set 1 | eyl\n",
      "Processing record 62 of Set 1 | almeirim\n",
      "Processing record 63 of Set 1 | esperance\n",
      "Processing record 64 of Set 1 | yellowknife\n",
      "Processing record 65 of Set 1 | rikitea\n",
      "Processing record 66 of Set 1 | vaini\n",
      "Processing record 67 of Set 1 | dusti\n",
      "Processing record 68 of Set 1 | nishihara\n",
      "Processing record 69 of Set 1 | qaqortoq\n",
      "Processing record 70 of Set 1 | bredasdorp\n",
      "Processing record 71 of Set 1 | lasa\n",
      "Processing record 72 of Set 1 | zheleznodorozhnyy\n",
      "Processing record 73 of Set 1 | kieta\n",
      "Processing record 74 of Set 1 | hualmay\n",
      "Processing record 75 of Set 1 | shubarshi\n",
      "Processing record 76 of Set 1 | barrow\n",
      "Processing record 77 of Set 1 | hermanus\n",
      "Processing record 78 of Set 1 | chhapar\n",
      "Processing record 79 of Set 1 | axim\n",
      "Processing record 80 of Set 1 | victoria\n",
      "Processing record 81 of Set 1 | altay\n",
      "Processing record 82 of Set 1 | tasiilaq\n",
      "Processing record 83 of Set 1 | rosarito\n",
      "Processing record 84 of Set 1 | gimli\n",
      "Processing record 85 of Set 1 | tilichiki\n",
      "Processing record 86 of Set 1 | katobu\n",
      "Processing record 87 of Set 1 | itarema\n",
      "Processing record 88 of Set 1 | castro\n",
      "Processing record 89 of Set 1 | pimentel\n",
      "Processing record 90 of Set 1 | narayangarh\n",
      "Processing record 91 of Set 1 | batagay\n",
      "Processing record 92 of Set 1 | gat\n",
      "Processing record 93 of Set 1 | carnarvon\n",
      "Processing record 94 of Set 1 | athens\n",
      "Processing record 95 of Set 1 | san patricio\n",
      "Processing record 96 of Set 1 | port alfred\n",
      "No city found - skip record\n",
      "Processing record 97 of Set 1 | hithadhoo\n",
      "Processing record 98 of Set 1 | zyryanka\n",
      "Processing record 99 of Set 1 | ahipara\n",
      "Processing record 100 of Set 1 | agirish\n",
      "Processing record 101 of Set 1 | mandiana\n",
      "Processing record 102 of Set 1 | talara\n",
      "Processing record 103 of Set 1 | waipawa\n",
      "Processing record 104 of Set 1 | zhigansk\n",
      "Processing record 105 of Set 1 | alice springs\n",
      "No city found - skip record\n",
      "Processing record 106 of Set 1 | merauke\n",
      "Processing record 107 of Set 1 | klaksvik\n",
      "Processing record 108 of Set 1 | karratha\n",
      "Processing record 109 of Set 1 | puro\n",
      "Processing record 110 of Set 1 | morondava\n",
      "Processing record 111 of Set 1 | alihe\n",
      "Processing record 112 of Set 1 | cape town\n",
      "Processing record 113 of Set 1 | shimanovsk\n",
      "Processing record 114 of Set 1 | aswan\n",
      "Processing record 115 of Set 1 | upernavik\n",
      "Processing record 116 of Set 1 | tiksi\n",
      "Processing record 117 of Set 1 | ushtobe\n",
      "Processing record 118 of Set 1 | porto novo\n",
      "Processing record 119 of Set 1 | dergachi\n",
      "Processing record 120 of Set 1 | souillac\n",
      "Processing record 121 of Set 1 | yueyang\n",
      "Processing record 122 of Set 1 | ipixuna\n",
      "Processing record 123 of Set 1 | oxelosund\n",
      "Processing record 124 of Set 1 | jamestown\n",
      "Processing record 125 of Set 1 | wewak\n",
      "Processing record 126 of Set 1 | muros\n",
      "Processing record 127 of Set 1 | severo-kurilsk\n",
      "Processing record 128 of Set 1 | emet\n",
      "Processing record 129 of Set 1 | balkhash\n",
      "Processing record 130 of Set 1 | bundaberg\n",
      "Processing record 131 of Set 1 | tabory\n",
      "Processing record 132 of Set 1 | goure\n",
      "Processing record 133 of Set 1 | dingle\n",
      "Processing record 134 of Set 1 | abeche\n",
      "Processing record 135 of Set 1 | pisco\n",
      "Processing record 136 of Set 1 | qaanaaq\n",
      "Processing record 137 of Set 1 | torbay\n",
      "Processing record 138 of Set 1 | aykhal\n",
      "Processing record 139 of Set 1 | georgetown\n",
      "Processing record 140 of Set 1 | aasiaat\n",
      "Processing record 141 of Set 1 | albion\n",
      "Processing record 142 of Set 1 | muncar\n",
      "Processing record 143 of Set 1 | bardiyah\n",
      "Processing record 144 of Set 1 | khatanga\n",
      "Processing record 145 of Set 1 | kavieng\n",
      "Processing record 146 of Set 1 | vostok\n",
      "Processing record 147 of Set 1 | ngawen\n",
      "Processing record 148 of Set 1 | lebu\n",
      "Processing record 149 of Set 1 | hohhot\n",
      "Processing record 150 of Set 1 | caravelas\n",
      "Processing record 151 of Set 1 | maple creek\n",
      "No city found - skip record\n",
      "Processing record 152 of Set 1 | idlib\n",
      "Processing record 153 of Set 1 | busselton\n",
      "Processing record 154 of Set 1 | muroto\n",
      "Processing record 155 of Set 1 | tuktoyaktuk\n",
      "Processing record 156 of Set 1 | veraval\n",
      "Processing record 157 of Set 1 | labuhan\n",
      "Processing record 158 of Set 1 | kyshtovka\n",
      "Processing record 159 of Set 1 | bom jardim\n",
      "Processing record 160 of Set 1 | charqueadas\n",
      "Processing record 161 of Set 1 | cabedelo\n",
      "Processing record 162 of Set 1 | mount gambier\n",
      "Processing record 163 of Set 1 | borovoy\n",
      "Processing record 164 of Set 1 | brae\n",
      "Processing record 165 of Set 1 | alofi\n",
      "Processing record 166 of Set 1 | saldanha\n",
      "Processing record 167 of Set 1 | codrington\n",
      "Processing record 168 of Set 1 | byron bay\n",
      "No city found - skip record\n",
      "Processing record 169 of Set 1 | salalah\n",
      "Processing record 170 of Set 1 | airai\n",
      "No city found - skip record\n",
      "Processing record 171 of Set 1 | katsuura\n",
      "Processing record 172 of Set 1 | eureka\n",
      "Processing record 173 of Set 1 | garowe\n",
      "Processing record 174 of Set 1 | olafsvik\n",
      "Processing record 175 of Set 1 | campbell river\n",
      "Processing record 176 of Set 1 | ilhabela\n",
      "Processing record 177 of Set 1 | petauke\n",
      "Processing record 178 of Set 1 | paamiut\n",
      "Processing record 179 of Set 1 | codajas\n",
      "Processing record 180 of Set 1 | ilulissat\n",
      "Processing record 181 of Set 1 | san rafael del sur\n",
      "Processing record 182 of Set 1 | atuona\n",
      "Processing record 183 of Set 1 | moro\n",
      "Processing record 184 of Set 1 | saint george\n",
      "Processing record 185 of Set 1 | luanda\n",
      "Processing record 186 of Set 1 | taoudenni\n",
      "Processing record 187 of Set 1 | tuatapere\n",
      "Processing record 188 of Set 1 | cidreira\n",
      "Processing record 189 of Set 1 | neiafu\n",
      "Processing record 190 of Set 1 | vila velha\n"
     ]
    },
    {
     "name": "stdout",
     "output_type": "stream",
     "text": [
      "Processing record 191 of Set 1 | lukulu\n",
      "Processing record 192 of Set 1 | vagur\n",
      "Processing record 193 of Set 1 | raga\n",
      "Processing record 194 of Set 1 | karpathos\n",
      "Processing record 195 of Set 1 | sa kaeo\n",
      "Processing record 196 of Set 1 | honiara\n",
      "Processing record 197 of Set 1 | cayenne\n",
      "Processing record 198 of Set 1 | butaritari\n",
      "Processing record 199 of Set 1 | ostrovnoy\n",
      "Processing record 200 of Set 1 | satipo\n",
      "Processing record 201 of Set 1 | kijang\n",
      "Processing record 202 of Set 1 | lagoa\n",
      "Processing record 203 of Set 1 | niteroi\n",
      "Processing record 204 of Set 1 | altamont\n",
      "Processing record 205 of Set 1 | port macquarie\n",
      "Processing record 206 of Set 1 | sur\n",
      "No city found - skip record\n",
      "Processing record 207 of Set 1 | kribi\n",
      "Processing record 208 of Set 1 | bajmok\n",
      "Processing record 209 of Set 1 | avarua\n",
      "Processing record 210 of Set 1 | mahebourg\n",
      "Processing record 211 of Set 1 | sabang\n",
      "Processing record 212 of Set 1 | high rock\n",
      "Processing record 213 of Set 1 | college\n",
      "Processing record 214 of Set 1 | atbasar\n",
      "Processing record 215 of Set 1 | greven\n",
      "Processing record 216 of Set 1 | avera\n",
      "No city found - skip record\n",
      "Processing record 217 of Set 1 | nalut\n",
      "Processing record 218 of Set 1 | kodiak\n",
      "Processing record 219 of Set 1 | talnakh\n",
      "Processing record 220 of Set 1 | fortuna\n",
      "No city found - skip record\n",
      "Processing record 221 of Set 1 | enshi\n",
      "Processing record 222 of Set 1 | twin falls\n",
      "Processing record 223 of Set 1 | erenhot\n",
      "Processing record 224 of Set 1 | durban\n",
      "Processing record 225 of Set 1 | mar del plata\n",
      "Processing record 226 of Set 1 | tingo maria\n",
      "Processing record 227 of Set 1 | muzhi\n",
      "Processing record 228 of Set 1 | komsomolets\n",
      "Processing record 229 of Set 1 | hobyo\n",
      "Processing record 230 of Set 1 | kahului\n",
      "Processing record 231 of Set 1 | muisne\n",
      "Processing record 232 of Set 1 | bengkulu\n",
      "Processing record 233 of Set 1 | kumluca\n",
      "Processing record 234 of Set 1 | coquimbo\n",
      "Processing record 235 of Set 1 | chuy\n",
      "Processing record 236 of Set 1 | okha\n",
      "Processing record 237 of Set 1 | provideniya\n",
      "Processing record 238 of Set 1 | vung tau\n",
      "Processing record 239 of Set 1 | srandakan\n",
      "Processing record 240 of Set 1 | trairi\n",
      "Processing record 241 of Set 1 | dali\n",
      "Processing record 242 of Set 1 | eruwa\n",
      "Processing record 243 of Set 1 | isangel\n",
      "Processing record 244 of Set 1 | hasaki\n",
      "Processing record 245 of Set 1 | goderich\n",
      "Processing record 246 of Set 1 | portland\n",
      "No city found - skip record\n",
      "Processing record 247 of Set 1 | grand gaube\n",
      "Processing record 248 of Set 1 | saint-augustin\n",
      "Processing record 249 of Set 1 | marsh harbour\n",
      "Processing record 250 of Set 1 | mankono\n",
      "Processing record 251 of Set 1 | nioro\n",
      "Processing record 252 of Set 1 | puerto narino\n",
      "Processing record 253 of Set 1 | lewisporte\n",
      "Processing record 254 of Set 1 | rincon\n",
      "Processing record 255 of Set 1 | nome\n",
      "Processing record 256 of Set 1 | constitucion\n",
      "Processing record 257 of Set 1 | faranah\n",
      "Processing record 258 of Set 1 | cabo san lucas\n",
      "Processing record 259 of Set 1 | narsaq\n",
      "Processing record 260 of Set 1 | adrar\n",
      "Processing record 261 of Set 1 | yamada\n",
      "Processing record 262 of Set 1 | aripuana\n",
      "No city found - skip record\n",
      "Processing record 263 of Set 1 | vanimo\n",
      "Processing record 264 of Set 1 | alta floresta\n",
      "Processing record 265 of Set 1 | micheweni\n",
      "Processing record 266 of Set 1 | ternate\n",
      "Processing record 267 of Set 1 | killybegs\n",
      "Processing record 268 of Set 1 | port lincoln\n",
      "Processing record 269 of Set 1 | linxia\n",
      "Processing record 270 of Set 1 | sept-iles\n",
      "Processing record 271 of Set 1 | makakilo city\n",
      "Processing record 272 of Set 1 | znamenskoye\n",
      "No city found - skip record\n",
      "No city found - skip record\n",
      "Processing record 273 of Set 1 | san rafael\n",
      "Processing record 274 of Set 1 | el dorado\n",
      "Processing record 275 of Set 1 | geraldton\n",
      "Processing record 276 of Set 1 | cajamar\n",
      "Processing record 277 of Set 1 | saint-leu\n",
      "Processing record 278 of Set 1 | cabo rojo\n",
      "Processing record 279 of Set 1 | xuddur\n",
      "No city found - skip record\n",
      "Processing record 280 of Set 1 | keetmanshoop\n",
      "Processing record 281 of Set 1 | punta de bombon\n",
      "Processing record 282 of Set 1 | lavrentiya\n",
      "Processing record 283 of Set 1 | nador\n",
      "Processing record 284 of Set 1 | kyzyl-suu\n",
      "Processing record 285 of Set 1 | arandis\n",
      "Processing record 286 of Set 1 | bamiantong\n",
      "Processing record 287 of Set 1 | tolaga bay\n",
      "Processing record 288 of Set 1 | okhotsk\n",
      "Processing record 289 of Set 1 | bethel\n",
      "No city found - skip record\n",
      "Processing record 290 of Set 1 | kirakira\n",
      "Processing record 291 of Set 1 | gaspe\n",
      "No city found - skip record\n",
      "Processing record 292 of Set 1 | dunedin\n",
      "Processing record 293 of Set 1 | broken hill\n",
      "Processing record 294 of Set 1 | pierre\n",
      "Processing record 295 of Set 1 | sembakung\n",
      "Processing record 296 of Set 1 | kununurra\n",
      "Processing record 297 of Set 1 | canto do buriti\n",
      "Processing record 298 of Set 1 | dwarka\n",
      "Processing record 299 of Set 1 | nanortalik\n",
      "Processing record 300 of Set 1 | tual\n",
      "Processing record 301 of Set 1 | quelimane\n",
      "Processing record 302 of Set 1 | naze\n",
      "Processing record 303 of Set 1 | chenzhou\n",
      "Processing record 304 of Set 1 | iqaluit\n",
      "Processing record 305 of Set 1 | sestri levante\n",
      "Processing record 306 of Set 1 | berlevag\n",
      "Processing record 307 of Set 1 | port hedland\n",
      "Processing record 308 of Set 1 | mastic beach\n",
      "Processing record 309 of Set 1 | cap malheureux\n",
      "Processing record 310 of Set 1 | barpeta\n",
      "No city found - skip record\n",
      "Processing record 311 of Set 1 | vestmannaeyjar\n",
      "Processing record 312 of Set 1 | vao\n",
      "Processing record 313 of Set 1 | agua dulce\n",
      "Processing record 314 of Set 1 | serov\n",
      "Processing record 315 of Set 1 | ojinaga\n",
      "Processing record 316 of Set 1 | eugene\n",
      "Processing record 317 of Set 1 | pangai\n",
      "Processing record 318 of Set 1 | redcar\n",
      "Processing record 319 of Set 1 | ancud\n",
      "Processing record 320 of Set 1 | tocopilla\n",
      "Processing record 321 of Set 1 | regeneracao\n",
      "Processing record 322 of Set 1 | oussouye\n",
      "Processing record 323 of Set 1 | boguchany\n",
      "Processing record 324 of Set 1 | maniitsoq\n",
      "Processing record 325 of Set 1 | ladario\n",
      "Processing record 326 of Set 1 | sergeyevka\n",
      "Processing record 327 of Set 1 | gander\n",
      "Processing record 328 of Set 1 | bambous virieux\n",
      "Processing record 329 of Set 1 | aguimes\n",
      "Processing record 330 of Set 1 | tsalenjikha\n",
      "Processing record 331 of Set 1 | egvekinot\n",
      "Processing record 332 of Set 1 | haines junction\n",
      "Processing record 333 of Set 1 | det udom\n",
      "Processing record 334 of Set 1 | lisieux\n",
      "Processing record 335 of Set 1 | limbang\n",
      "Processing record 336 of Set 1 | camacha\n",
      "Processing record 337 of Set 1 | palmas de monte alto\n",
      "No city found - skip record\n",
      "Processing record 338 of Set 1 | zavodoukovsk\n",
      "Processing record 339 of Set 1 | springbok\n",
      "Processing record 340 of Set 1 | la ronge\n",
      "Processing record 341 of Set 1 | lake havasu city\n",
      "Processing record 342 of Set 1 | isiro\n",
      "Processing record 343 of Set 1 | mehamn\n",
      "Processing record 344 of Set 1 | linkou\n",
      "Processing record 345 of Set 1 | burley\n",
      "Processing record 346 of Set 1 | mandal\n",
      "Processing record 347 of Set 1 | san carlos de bariloche\n",
      "Processing record 348 of Set 1 | roald\n",
      "Processing record 349 of Set 1 | vilela\n",
      "Processing record 350 of Set 1 | boa vista\n",
      "Processing record 351 of Set 1 | oskarshamn\n",
      "Processing record 352 of Set 1 | goundam\n",
      "Processing record 353 of Set 1 | salinas\n",
      "Processing record 354 of Set 1 | laramie\n",
      "Processing record 355 of Set 1 | nenjiang\n",
      "No city found - skip record\n",
      "Processing record 356 of Set 1 | yulara\n",
      "Processing record 357 of Set 1 | pavilosta\n",
      "Processing record 358 of Set 1 | ambilobe\n",
      "Processing record 359 of Set 1 | ucluelet\n",
      "Processing record 360 of Set 1 | gushikawa\n",
      "Processing record 361 of Set 1 | ayan\n",
      "No city found - skip record\n",
      "Processing record 362 of Set 1 | chumikan\n",
      "Processing record 363 of Set 1 | guerrero negro\n",
      "Processing record 364 of Set 1 | urucara\n",
      "Processing record 365 of Set 1 | inhambane\n",
      "No city found - skip record\n",
      "Processing record 366 of Set 1 | komsomolskiy\n",
      "Processing record 367 of Set 1 | gaogou\n",
      "Processing record 368 of Set 1 | safaga\n",
      "Processing record 369 of Set 1 | cloquet\n",
      "Processing record 370 of Set 1 | sabancuy\n",
      "Processing record 371 of Set 1 | jacksonville\n",
      "Processing record 372 of Set 1 | porto velho\n",
      "Processing record 373 of Set 1 | flinders\n",
      "Processing record 374 of Set 1 | ikeda\n",
      "Processing record 375 of Set 1 | shenjiamen\n"
     ]
    },
    {
     "name": "stdout",
     "output_type": "stream",
     "text": [
      "Processing record 376 of Set 1 | san pedro\n",
      "Processing record 377 of Set 1 | thinadhoo\n",
      "Processing record 378 of Set 1 | san vicente\n",
      "Processing record 379 of Set 1 | swift current\n",
      "Processing record 380 of Set 1 | balabac\n",
      "No city found - skip record\n",
      "Processing record 381 of Set 1 | hamilton\n",
      "Processing record 382 of Set 1 | balclutha\n",
      "Processing record 383 of Set 1 | dalvik\n",
      "Processing record 384 of Set 1 | chintamani\n",
      "Processing record 385 of Set 1 | kamenka\n",
      "Processing record 386 of Set 1 | brainerd\n",
      "Processing record 387 of Set 1 | wajir\n",
      "Processing record 388 of Set 1 | macas\n",
      "Processing record 389 of Set 1 | port hardy\n",
      "Processing record 390 of Set 1 | shache\n",
      "Processing record 391 of Set 1 | nyrob\n",
      "Processing record 392 of Set 1 | yacuiba\n",
      "Processing record 393 of Set 1 | bourail\n",
      "Processing record 394 of Set 1 | chabahar\n",
      "No city found - skip record\n",
      "No city found - skip record\n",
      "No city found - skip record\n",
      "Processing record 395 of Set 1 | paita\n",
      "Processing record 396 of Set 1 | porbandar\n",
      "Processing record 397 of Set 1 | half moon bay\n",
      "Processing record 398 of Set 1 | meulaboh\n",
      "Processing record 399 of Set 1 | kodinsk\n",
      "Processing record 400 of Set 1 | matagami\n",
      "Processing record 401 of Set 1 | nehe\n",
      "Processing record 402 of Set 1 | chaman\n",
      "Processing record 403 of Set 1 | boundiali\n",
      "Processing record 404 of Set 1 | orange\n",
      "Processing record 405 of Set 1 | sistranda\n",
      "Processing record 406 of Set 1 | lillooet\n",
      "Processing record 407 of Set 1 | keokuk\n",
      "Processing record 408 of Set 1 | saintes\n",
      "Processing record 409 of Set 1 | novoagansk\n",
      "Processing record 410 of Set 1 | kaitangata\n",
      "Processing record 411 of Set 1 | estevan\n",
      "Processing record 412 of Set 1 | hofn\n",
      "Processing record 413 of Set 1 | filingue\n",
      "Processing record 414 of Set 1 | hanmer springs\n",
      "Processing record 415 of Set 1 | banfora\n",
      "Processing record 416 of Set 1 | vakhrushev\n",
      "Processing record 417 of Set 1 | uglegorskiy\n",
      "Processing record 418 of Set 1 | bubaque\n",
      "Processing record 419 of Set 1 | faya\n",
      "No city found - skip record\n",
      "Processing record 420 of Set 1 | humaita\n",
      "Processing record 421 of Set 1 | manaure\n",
      "Processing record 422 of Set 1 | sovetskiy\n",
      "Processing record 423 of Set 1 | carutapera\n",
      "Processing record 424 of Set 1 | dingolfing\n",
      "Processing record 425 of Set 1 | dromolaxia\n",
      "Processing record 426 of Set 1 | itainopolis\n",
      "Processing record 427 of Set 1 | xai-xai\n",
      "Processing record 428 of Set 1 | tomatlan\n",
      "Processing record 429 of Set 1 | odienne\n",
      "Processing record 430 of Set 1 | sungurlu\n",
      "Processing record 431 of Set 1 | faanui\n",
      "Processing record 432 of Set 1 | road town\n",
      "Processing record 433 of Set 1 | polunochnoye\n",
      "Processing record 434 of Set 1 | gazojak\n",
      "Processing record 435 of Set 1 | san cristobal\n",
      "Processing record 436 of Set 1 | ikwiriri\n",
      "Processing record 437 of Set 1 | mareeba\n",
      "Processing record 438 of Set 1 | gumdag\n",
      "Processing record 439 of Set 1 | maraa\n",
      "Processing record 440 of Set 1 | clyde river\n",
      "Processing record 441 of Set 1 | riviere-au-renard\n",
      "Processing record 442 of Set 1 | ereymentau\n",
      "Processing record 443 of Set 1 | praia da vitoria\n",
      "Processing record 444 of Set 1 | elk city\n",
      "Processing record 445 of Set 1 | bafoulabe\n",
      "Processing record 446 of Set 1 | mayo\n",
      "Processing record 447 of Set 1 | puerto leguizamo\n",
      "Processing record 448 of Set 1 | te anau\n",
      "Processing record 449 of Set 1 | ixtapa\n",
      "Processing record 450 of Set 1 | verkhnyaya toyma\n",
      "Processing record 451 of Set 1 | atar\n",
      "Processing record 452 of Set 1 | pa sang\n",
      "Processing record 453 of Set 1 | yerbogachen\n",
      "No city found - skip record\n",
      "Processing record 454 of Set 1 | panacan\n",
      "Processing record 455 of Set 1 | marsa matruh\n",
      "Processing record 456 of Set 1 | beringovskiy\n",
      "Processing record 457 of Set 1 | wanning\n",
      "Processing record 458 of Set 1 | quang ngai\n",
      "Processing record 459 of Set 1 | tateyama\n",
      "Processing record 460 of Set 1 | mana\n",
      "Processing record 461 of Set 1 | isoka\n",
      "Processing record 462 of Set 1 | nelson bay\n",
      "No city found - skip record\n",
      "Processing record 463 of Set 1 | sinjai\n",
      "Processing record 464 of Set 1 | saint-pierre\n",
      "Processing record 465 of Set 1 | sola\n",
      "Processing record 466 of Set 1 | fairview\n",
      "Processing record 467 of Set 1 | mayor pablo lagerenza\n",
      "Processing record 468 of Set 1 | vila\n",
      "No city found - skip record\n",
      "Processing record 469 of Set 1 | baykit\n",
      "Processing record 470 of Set 1 | birao\n",
      "Processing record 471 of Set 1 | socorro\n",
      "Processing record 472 of Set 1 | yuci\n",
      "Processing record 473 of Set 1 | mazamari\n",
      "Processing record 474 of Set 1 | khasan\n",
      "Processing record 475 of Set 1 | bloemfontein\n",
      "Processing record 476 of Set 1 | tazovskiy\n",
      "Processing record 477 of Set 1 | kuching\n",
      "Processing record 478 of Set 1 | santa marta\n",
      "Processing record 479 of Set 1 | itoman\n",
      "Processing record 480 of Set 1 | el alto\n",
      "Processing record 481 of Set 1 | sioux lookout\n",
      "Processing record 482 of Set 1 | richards bay\n",
      "Processing record 483 of Set 1 | keuruu\n",
      "Processing record 484 of Set 1 | ajdabiya\n",
      "Processing record 485 of Set 1 | guanajuato\n",
      "Processing record 486 of Set 1 | kiama\n",
      "Processing record 487 of Set 1 | sungaipenuh\n",
      "Processing record 488 of Set 1 | miandoab\n",
      "Processing record 489 of Set 1 | cassilandia\n",
      "Processing record 490 of Set 1 | srednekolymsk\n",
      "Processing record 491 of Set 1 | asau\n",
      "Processing record 492 of Set 1 | natal\n",
      "Processing record 493 of Set 1 | clyde\n",
      "Processing record 494 of Set 1 | hami\n",
      "Processing record 495 of Set 1 | tiebissou\n",
      "Processing record 496 of Set 1 | bentiu\n",
      "Processing record 497 of Set 1 | kaeo\n",
      "Processing record 498 of Set 1 | rawson\n",
      "Processing record 499 of Set 1 | preobrazheniye\n",
      "Processing record 500 of Set 1 | laguna\n",
      "Processing record 501 of Set 1 | nan\n",
      "Processing record 502 of Set 1 | damara\n",
      "Processing record 503 of Set 1 | pevek\n",
      "Processing record 504 of Set 1 | sivaki\n",
      "Processing record 505 of Set 1 | whitehorse\n",
      "Processing record 506 of Set 1 | zhezkazgan\n",
      "Processing record 507 of Set 1 | buraydah\n",
      "Processing record 508 of Set 1 | olinda\n",
      "Processing record 509 of Set 1 | luganville\n",
      "Processing record 510 of Set 1 | palmer\n",
      "Processing record 511 of Set 1 | acarau\n",
      "Processing record 512 of Set 1 | shelburne\n",
      "Processing record 513 of Set 1 | eenhana\n",
      "Processing record 514 of Set 1 | solnechnyy\n",
      "Processing record 515 of Set 1 | mackay\n",
      "Processing record 516 of Set 1 | luderitz\n",
      "Processing record 517 of Set 1 | henties bay\n",
      "Processing record 518 of Set 1 | sobolevo\n",
      "Processing record 519 of Set 1 | arlit\n",
      "Processing record 520 of Set 1 | santa fe\n",
      "Processing record 521 of Set 1 | coihaique\n",
      "No city found - skip record\n",
      "Processing record 522 of Set 1 | westport\n",
      "Processing record 523 of Set 1 | severomuysk\n",
      "Processing record 524 of Set 1 | san roque\n",
      "No city found - skip record\n",
      "No city found - skip record\n",
      "Processing record 525 of Set 1 | madang\n",
      "Processing record 526 of Set 1 | pitimbu\n",
      "Processing record 527 of Set 1 | jardim\n",
      "Processing record 528 of Set 1 | dubbo\n",
      "Processing record 529 of Set 1 | gigmoto\n",
      "Processing record 530 of Set 1 | sanson\n",
      "Processing record 531 of Set 1 | fort nelson\n",
      "Processing record 532 of Set 1 | hillsborough\n",
      "Processing record 533 of Set 1 | subate\n",
      "Processing record 534 of Set 1 | mahibadhoo\n",
      "Processing record 535 of Set 1 | sabha\n",
      "Processing record 536 of Set 1 | shirokiy\n",
      "Processing record 537 of Set 1 | carupano\n",
      "Processing record 538 of Set 1 | kabalo\n",
      "Processing record 539 of Set 1 | shingu\n",
      "Processing record 540 of Set 1 | henderson\n",
      "Processing record 541 of Set 1 | xining\n",
      "Processing record 542 of Set 1 | amapa\n",
      "Processing record 543 of Set 1 | noumea\n",
      "Processing record 544 of Set 1 | tyret pervaya\n",
      "Processing record 545 of Set 1 | durazno\n",
      "Processing record 546 of Set 1 | nabire\n",
      "Processing record 547 of Set 1 | namibe\n",
      "Processing record 548 of Set 1 | namanga\n",
      "No city found - skip record\n",
      "Processing record 549 of Set 1 | qeshm\n",
      "Processing record 550 of Set 1 | grants\n",
      "Processing record 551 of Set 1 | kitob\n",
      "Processing record 552 of Set 1 | elverum\n",
      "Processing record 553 of Set 1 | highland springs\n",
      "Processing record 554 of Set 1 | chirongui\n",
      "Processing record 555 of Set 1 | kysyl-syr\n",
      "Processing record 556 of Set 1 | dulovo\n",
      "Processing record 557 of Set 1 | aksu\n",
      "Processing record 558 of Set 1 | biak\n",
      "Processing record 559 of Set 1 | samarai\n",
      "Processing record 560 of Set 1 | spassk-ryazanskiy\n",
      "Processing record 561 of Set 1 | yarensk\n",
      "Processing record 562 of Set 1 | haverfordwest\n",
      "No city found - skip record\n"
     ]
    },
    {
     "name": "stdout",
     "output_type": "stream",
     "text": [
      "Processing record 563 of Set 1 | ust-maya\n",
      "Processing record 564 of Set 1 | kuusamo\n",
      "Processing record 565 of Set 1 | tromso\n",
      "Processing record 566 of Set 1 | lithgow\n",
      "Processing record 567 of Set 1 | zhanakorgan\n",
      "Processing record 568 of Set 1 | amahai\n",
      "Processing record 569 of Set 1 | gunnedah\n",
      "Processing record 570 of Set 1 | bridgetown\n",
      "Processing record 571 of Set 1 | payson\n",
      "Processing record 572 of Set 1 | shumskiy\n",
      "No city found - skip record\n",
      "Processing record 573 of Set 1 | port hawkesbury\n",
      "Processing record 574 of Set 1 | porto walter\n",
      "Processing record 575 of Set 1 | nova ushytsya\n",
      "Processing record 576 of Set 1 | blackwater\n",
      "Processing record 577 of Set 1 | san miguelito\n",
      "Processing record 578 of Set 1 | alvinopolis\n",
      "Processing record 579 of Set 1 | tabou\n",
      "Processing record 580 of Set 1 | mattru\n",
      "Processing record 581 of Set 1 | oranjemund\n",
      "Processing record 582 of Set 1 | nichinan\n",
      "No city found - skip record\n",
      "Processing record 583 of Set 1 | bekhtery\n",
      "-----------------------------\n",
      "Data Retrieval Complete\n",
      "-----------------------------\n"
     ]
    }
   ],
   "source": [
    "url = \"http://api.openweathermap.org/data/2.5/forecast?id=524901&APPID=\"\n",
    "main_url = url + weather_api_key\n",
    "main_url\n",
    "\n",
    "#create an open list of variables\n",
    "name_of_city = []\n",
    "clouds = []\n",
    "country = []\n",
    "dates = []\n",
    "humidity = []\n",
    "latitude = []\n",
    "longitude = []\n",
    "temp_high = []\n",
    "wind_speed = []\n",
    "count = 0\n",
    "\n",
    "#loop through the website to pull variables and place in list\n",
    "for city in cities:\n",
    "    weather_response = requests.get(main_url + \"&q=\" + city + \"&units=Imperial\")\n",
    "    weather_out = weather_response.json()\n",
    "    try:\n",
    "        name_of_city.append(weather_out['city']['name'])\n",
    "        clouds.append(weather_out['list'][0]['clouds']['all'])\n",
    "        country.append(weather_out['city']['country'])\n",
    "        dates.append(weather_out['list'][0]['dt'])\n",
    "        humidity.append(weather_out['list'][0]['main']['humidity'])\n",
    "        latitude.append(weather_out['city']['coord']['lat'])\n",
    "        longitude.append(weather_out['city']['coord']['lon'])\n",
    "        temp_high.append(weather_out['list'][0]['main']['temp_max'])\n",
    "        wind_speed.append(weather_out['list'][0]['wind']['speed'])\n",
    "        count = count + 1\n",
    "        print(f\"Processing record {count} of Set 1 | {city}\")\n",
    "    except(KeyError, IndexError):\n",
    "        print(\"No city found - skip record\") \n",
    "                \n",
    "print(\"-----------------------------\")\n",
    "print(\"Data Retrieval Complete\")\n",
    "print(\"-----------------------------\")\n",
    "\n"
   ]
  },
  {
   "cell_type": "markdown",
   "metadata": {},
   "source": [
    "### Convert Raw Data to DataFrame\n",
    "* Export the city data into a .csv.\n",
    "* Display the DataFrame"
   ]
  },
  {
   "cell_type": "code",
   "execution_count": 10,
   "metadata": {},
   "outputs": [
    {
     "data": {
      "text/html": [
       "<div>\n",
       "<style scoped>\n",
       "    .dataframe tbody tr th:only-of-type {\n",
       "        vertical-align: middle;\n",
       "    }\n",
       "\n",
       "    .dataframe tbody tr th {\n",
       "        vertical-align: top;\n",
       "    }\n",
       "\n",
       "    .dataframe thead th {\n",
       "        text-align: right;\n",
       "    }\n",
       "</style>\n",
       "<table border=\"1\" class=\"dataframe\">\n",
       "  <thead>\n",
       "    <tr style=\"text-align: right;\">\n",
       "      <th></th>\n",
       "      <th>City</th>\n",
       "      <th>Latitude</th>\n",
       "      <th>Longitude</th>\n",
       "      <th>Max Temp</th>\n",
       "      <th>Humidity</th>\n",
       "      <th>Cloudiness</th>\n",
       "      <th>Wind Speed</th>\n",
       "      <th>Country</th>\n",
       "      <th>Date</th>\n",
       "    </tr>\n",
       "  </thead>\n",
       "  <tbody>\n",
       "    <tr>\n",
       "      <th>0</th>\n",
       "      <td>Chokurdakh</td>\n",
       "      <td>70.6333</td>\n",
       "      <td>147.9167</td>\n",
       "      <td>43.27</td>\n",
       "      <td>72</td>\n",
       "      <td>96</td>\n",
       "      <td>12.46</td>\n",
       "      <td>RU</td>\n",
       "      <td>1627344000</td>\n",
       "    </tr>\n",
       "    <tr>\n",
       "      <th>1</th>\n",
       "      <td>Kamsack</td>\n",
       "      <td>51.5667</td>\n",
       "      <td>-101.9009</td>\n",
       "      <td>84.88</td>\n",
       "      <td>23</td>\n",
       "      <td>16</td>\n",
       "      <td>7.90</td>\n",
       "      <td>CA</td>\n",
       "      <td>1627344000</td>\n",
       "    </tr>\n",
       "    <tr>\n",
       "      <th>2</th>\n",
       "      <td>Lorengau</td>\n",
       "      <td>-2.0226</td>\n",
       "      <td>147.2712</td>\n",
       "      <td>84.88</td>\n",
       "      <td>74</td>\n",
       "      <td>72</td>\n",
       "      <td>3.40</td>\n",
       "      <td>PG</td>\n",
       "      <td>1627344000</td>\n",
       "    </tr>\n",
       "    <tr>\n",
       "      <th>3</th>\n",
       "      <td>Longyearbyen</td>\n",
       "      <td>78.2186</td>\n",
       "      <td>15.6401</td>\n",
       "      <td>43.18</td>\n",
       "      <td>87</td>\n",
       "      <td>83</td>\n",
       "      <td>0.94</td>\n",
       "      <td>SJ</td>\n",
       "      <td>1627344000</td>\n",
       "    </tr>\n",
       "    <tr>\n",
       "      <th>4</th>\n",
       "      <td>Hindupur</td>\n",
       "      <td>13.8289</td>\n",
       "      <td>77.4933</td>\n",
       "      <td>72.12</td>\n",
       "      <td>82</td>\n",
       "      <td>93</td>\n",
       "      <td>9.42</td>\n",
       "      <td>IN</td>\n",
       "      <td>1627344000</td>\n",
       "    </tr>\n",
       "    <tr>\n",
       "      <th>5</th>\n",
       "      <td>Simao</td>\n",
       "      <td>22.7886</td>\n",
       "      <td>100.9748</td>\n",
       "      <td>65.46</td>\n",
       "      <td>99</td>\n",
       "      <td>40</td>\n",
       "      <td>0.65</td>\n",
       "      <td>CN</td>\n",
       "      <td>1627344000</td>\n",
       "    </tr>\n",
       "    <tr>\n",
       "      <th>6</th>\n",
       "      <td>Grindavik</td>\n",
       "      <td>63.8424</td>\n",
       "      <td>-22.4338</td>\n",
       "      <td>50.34</td>\n",
       "      <td>85</td>\n",
       "      <td>83</td>\n",
       "      <td>17.43</td>\n",
       "      <td>IS</td>\n",
       "      <td>1627344000</td>\n",
       "    </tr>\n",
       "    <tr>\n",
       "      <th>7</th>\n",
       "      <td>Ati</td>\n",
       "      <td>13.2154</td>\n",
       "      <td>18.3353</td>\n",
       "      <td>79.77</td>\n",
       "      <td>70</td>\n",
       "      <td>90</td>\n",
       "      <td>6.15</td>\n",
       "      <td>TD</td>\n",
       "      <td>1627344000</td>\n",
       "    </tr>\n",
       "    <tr>\n",
       "      <th>8</th>\n",
       "      <td>Vardø</td>\n",
       "      <td>70.3705</td>\n",
       "      <td>31.1107</td>\n",
       "      <td>46.42</td>\n",
       "      <td>86</td>\n",
       "      <td>58</td>\n",
       "      <td>7.58</td>\n",
       "      <td>NO</td>\n",
       "      <td>1627344000</td>\n",
       "    </tr>\n",
       "    <tr>\n",
       "      <th>9</th>\n",
       "      <td>Arcata</td>\n",
       "      <td>40.8665</td>\n",
       "      <td>-124.0828</td>\n",
       "      <td>67.35</td>\n",
       "      <td>74</td>\n",
       "      <td>34</td>\n",
       "      <td>5.77</td>\n",
       "      <td>US</td>\n",
       "      <td>1627344000</td>\n",
       "    </tr>\n",
       "  </tbody>\n",
       "</table>\n",
       "</div>"
      ],
      "text/plain": [
       "           City  Latitude  Longitude  Max Temp  Humidity  Cloudiness  \\\n",
       "0    Chokurdakh   70.6333   147.9167     43.27        72          96   \n",
       "1       Kamsack   51.5667  -101.9009     84.88        23          16   \n",
       "2      Lorengau   -2.0226   147.2712     84.88        74          72   \n",
       "3  Longyearbyen   78.2186    15.6401     43.18        87          83   \n",
       "4      Hindupur   13.8289    77.4933     72.12        82          93   \n",
       "5         Simao   22.7886   100.9748     65.46        99          40   \n",
       "6     Grindavik   63.8424   -22.4338     50.34        85          83   \n",
       "7           Ati   13.2154    18.3353     79.77        70          90   \n",
       "8         Vardø   70.3705    31.1107     46.42        86          58   \n",
       "9        Arcata   40.8665  -124.0828     67.35        74          34   \n",
       "\n",
       "   Wind Speed Country        Date  \n",
       "0       12.46      RU  1627344000  \n",
       "1        7.90      CA  1627344000  \n",
       "2        3.40      PG  1627344000  \n",
       "3        0.94      SJ  1627344000  \n",
       "4        9.42      IN  1627344000  \n",
       "5        0.65      CN  1627344000  \n",
       "6       17.43      IS  1627344000  \n",
       "7        6.15      TD  1627344000  \n",
       "8        7.58      NO  1627344000  \n",
       "9        5.77      US  1627344000  "
      ]
     },
     "execution_count": 10,
     "metadata": {},
     "output_type": "execute_result"
    }
   ],
   "source": [
    "#convert retrieved data to a dataframe\n",
    "d2 = {\"City\":  name_of_city,\n",
    "            \"Latitude\": latitude, \n",
    "            \"Longitude\": longitude,\n",
    "            \"Max Temp\":temp_high,\n",
    "            \"Humidity\":humidity,\n",
    "            \"Cloudiness\":clouds,\n",
    "            \"Wind Speed\":wind_speed,\n",
    "            \"Country\":country, \n",
    "            \"Date\":dates}\n",
    "weather_df = pd.DataFrame(d2)\n",
    "weather_df.head(10)"
   ]
  },
  {
   "cell_type": "code",
   "execution_count": 19,
   "metadata": {},
   "outputs": [
    {
     "data": {
      "text/plain": [
       "583"
      ]
     },
     "execution_count": 19,
     "metadata": {},
     "output_type": "execute_result"
    }
   ],
   "source": [
    "#Export data to CSV file\n",
    "weather_df.to_csv(r'output_data.csv')\n",
    "\n",
    "list_display = len(weather_data)\n",
    "list_display"
   ]
  },
  {
   "cell_type": "markdown",
   "metadata": {},
   "source": [
    "## Inspect the data and remove the cities where the humidity > 100%.\n",
    "----\n",
    "Skip this step if there are no cities that have humidity > 100%. "
   ]
  },
  {
   "cell_type": "code",
   "execution_count": 25,
   "metadata": {},
   "outputs": [
    {
     "data": {
      "text/plain": [
       "100"
      ]
     },
     "execution_count": 25,
     "metadata": {},
     "output_type": "execute_result"
    }
   ],
   "source": [
    "weather_df[\"Humidity\"].max()"
   ]
  },
  {
   "cell_type": "code",
   "execution_count": 26,
   "metadata": {},
   "outputs": [
    {
     "data": {
      "text/html": [
       "<div>\n",
       "<style scoped>\n",
       "    .dataframe tbody tr th:only-of-type {\n",
       "        vertical-align: middle;\n",
       "    }\n",
       "\n",
       "    .dataframe tbody tr th {\n",
       "        vertical-align: top;\n",
       "    }\n",
       "\n",
       "    .dataframe thead th {\n",
       "        text-align: right;\n",
       "    }\n",
       "</style>\n",
       "<table border=\"1\" class=\"dataframe\">\n",
       "  <thead>\n",
       "    <tr style=\"text-align: right;\">\n",
       "      <th></th>\n",
       "      <th>Latitude</th>\n",
       "      <th>Longitude</th>\n",
       "      <th>Max Temp</th>\n",
       "      <th>Humidity</th>\n",
       "      <th>Cloudiness</th>\n",
       "      <th>Wind Speed</th>\n",
       "      <th>Date</th>\n",
       "    </tr>\n",
       "  </thead>\n",
       "  <tbody>\n",
       "    <tr>\n",
       "      <th>count</th>\n",
       "      <td>583.000000</td>\n",
       "      <td>583.000000</td>\n",
       "      <td>583.000000</td>\n",
       "      <td>583.000000</td>\n",
       "      <td>583.000000</td>\n",
       "      <td>583.000000</td>\n",
       "      <td>5.830000e+02</td>\n",
       "    </tr>\n",
       "    <tr>\n",
       "      <th>mean</th>\n",
       "      <td>18.924883</td>\n",
       "      <td>18.561341</td>\n",
       "      <td>70.772710</td>\n",
       "      <td>69.674099</td>\n",
       "      <td>52.583190</td>\n",
       "      <td>8.484528</td>\n",
       "      <td>1.627344e+09</td>\n",
       "    </tr>\n",
       "    <tr>\n",
       "      <th>std</th>\n",
       "      <td>33.215086</td>\n",
       "      <td>92.174767</td>\n",
       "      <td>13.475689</td>\n",
       "      <td>20.966103</td>\n",
       "      <td>36.203504</td>\n",
       "      <td>5.616600</td>\n",
       "      <td>0.000000e+00</td>\n",
       "    </tr>\n",
       "    <tr>\n",
       "      <th>min</th>\n",
       "      <td>-54.800000</td>\n",
       "      <td>-179.166700</td>\n",
       "      <td>34.520000</td>\n",
       "      <td>8.000000</td>\n",
       "      <td>0.000000</td>\n",
       "      <td>0.130000</td>\n",
       "      <td>1.627344e+09</td>\n",
       "    </tr>\n",
       "    <tr>\n",
       "      <th>25%</th>\n",
       "      <td>-8.189300</td>\n",
       "      <td>-61.702700</td>\n",
       "      <td>61.880000</td>\n",
       "      <td>59.000000</td>\n",
       "      <td>17.500000</td>\n",
       "      <td>4.320000</td>\n",
       "      <td>1.627344e+09</td>\n",
       "    </tr>\n",
       "    <tr>\n",
       "      <th>50%</th>\n",
       "      <td>22.239400</td>\n",
       "      <td>22.253100</td>\n",
       "      <td>72.480000</td>\n",
       "      <td>75.000000</td>\n",
       "      <td>56.000000</td>\n",
       "      <td>7.250000</td>\n",
       "      <td>1.627344e+09</td>\n",
       "    </tr>\n",
       "    <tr>\n",
       "      <th>75%</th>\n",
       "      <td>47.255300</td>\n",
       "      <td>102.416650</td>\n",
       "      <td>81.220000</td>\n",
       "      <td>85.000000</td>\n",
       "      <td>88.000000</td>\n",
       "      <td>11.130000</td>\n",
       "      <td>1.627344e+09</td>\n",
       "    </tr>\n",
       "    <tr>\n",
       "      <th>max</th>\n",
       "      <td>78.218600</td>\n",
       "      <td>179.316700</td>\n",
       "      <td>107.200000</td>\n",
       "      <td>100.000000</td>\n",
       "      <td>100.000000</td>\n",
       "      <td>34.340000</td>\n",
       "      <td>1.627344e+09</td>\n",
       "    </tr>\n",
       "  </tbody>\n",
       "</table>\n",
       "</div>"
      ],
      "text/plain": [
       "         Latitude   Longitude    Max Temp    Humidity  Cloudiness  Wind Speed  \\\n",
       "count  583.000000  583.000000  583.000000  583.000000  583.000000  583.000000   \n",
       "mean    18.924883   18.561341   70.772710   69.674099   52.583190    8.484528   \n",
       "std     33.215086   92.174767   13.475689   20.966103   36.203504    5.616600   \n",
       "min    -54.800000 -179.166700   34.520000    8.000000    0.000000    0.130000   \n",
       "25%     -8.189300  -61.702700   61.880000   59.000000   17.500000    4.320000   \n",
       "50%     22.239400   22.253100   72.480000   75.000000   56.000000    7.250000   \n",
       "75%     47.255300  102.416650   81.220000   85.000000   88.000000   11.130000   \n",
       "max     78.218600  179.316700  107.200000  100.000000  100.000000   34.340000   \n",
       "\n",
       "               Date  \n",
       "count  5.830000e+02  \n",
       "mean   1.627344e+09  \n",
       "std    0.000000e+00  \n",
       "min    1.627344e+09  \n",
       "25%    1.627344e+09  \n",
       "50%    1.627344e+09  \n",
       "75%    1.627344e+09  \n",
       "max    1.627344e+09  "
      ]
     },
     "execution_count": 26,
     "metadata": {},
     "output_type": "execute_result"
    }
   ],
   "source": [
    "#  Get the indices of cities that have humidity over 100%.\n",
    "# get descriptive statistics for all continuous variables in the dataset\n",
    "weather_df.describe()"
   ]
  },
  {
   "cell_type": "code",
   "execution_count": null,
   "metadata": {},
   "outputs": [],
   "source": [
    "# Make a new DataFrame equal to the city data to drop all humidity outliers by index.\n",
    "# Passing \"inplace=False\" will make a copy of the city_data DataFrame, which we call \"clean_city_data\".\n"
   ]
  },
  {
   "cell_type": "code",
   "execution_count": null,
   "metadata": {},
   "outputs": [],
   "source": [
    "\n"
   ]
  },
  {
   "cell_type": "markdown",
   "metadata": {},
   "source": [
    "## Plotting the Data\n",
    "* Use proper labeling of the plots using plot titles (including date of analysis) and axes labels.\n",
    "* Save the plotted figures as .pngs."
   ]
  },
  {
   "cell_type": "markdown",
   "metadata": {},
   "source": [
    "## Latitude vs. Temperature Plot"
   ]
  },
  {
   "cell_type": "code",
   "execution_count": 21,
   "metadata": {
    "scrolled": true
   },
   "outputs": [
    {
     "data": {
      "image/png": "[encoded data removed]",
      "text/plain": [
       "<Figure size 432x288 with 1 Axes>"
      ]
     },
     "metadata": {
      "needs_background": "light"
     },
     "output_type": "display_data"
    }
   ],
   "source": [
    "#Plot latitude vs Temperature\n",
    "lat_temp = weather_data[\"Latitude\"]\n",
    "temp_plot = weather_data[\"Max Temp\"]\n",
    "\n",
    "plt.scatter(lat_temp,temp_plot)\n",
    "plt.title('City Latitude vs. Max Temperature(5/28/19)')\n",
    "plt.xlabel('Latitude')\n",
    "plt.ylabel('Max Temperature (F)')\n",
    "plt.savefig('pltlatitudevstemp')\n",
    "plt.show()"
   ]
  },
  {
   "cell_type": "markdown",
   "metadata": {},
   "source": [
    "## Latitude vs. Humidity Plot"
   ]
  },
  {
   "cell_type": "code",
   "execution_count": 22,
   "metadata": {},
   "outputs": [
    {
     "data": {
      "image/png": "[encoded data removed]",
      "text/plain": [
       "<Figure size 432x288 with 1 Axes>"
      ]
     },
     "metadata": {
      "needs_background": "light"
     },
     "output_type": "display_data"
    }
   ],
   "source": [
    "#Plot latitude vs Humidity\n",
    "lat_hum = weather_data[\"Humidity\"]\n",
    "\n",
    "plt.scatter(lat_temp,lat_hum)\n",
    "plt.title('City Latitude vs. Humidity(5/28/19)')\n",
    "plt.xlabel('Latitude')\n",
    "plt.ylabel('Humidity (%)')\n",
    "plt.savefig('pltlatitudevshumidity')\n",
    "plt.show()"
   ]
  },
  {
   "cell_type": "markdown",
   "metadata": {},
   "source": [
    "## Latitude vs. Cloudiness Plot"
   ]
  },
  {
   "cell_type": "code",
   "execution_count": 23,
   "metadata": {},
   "outputs": [
    {
     "data": {
      "image/png": "[encoded data removed]",
      "text/plain": [
       "<Figure size 432x288 with 1 Axes>"
      ]
     },
     "metadata": {
      "needs_background": "light"
     },
     "output_type": "display_data"
    }
   ],
   "source": [
    "#latitude and cloudiness plot\n",
    "lat_cloud = weather_data[\"Cloudiness\"]\n",
    "\n",
    "plt.scatter(lat_temp,lat_cloud)\n",
    "plt.title('City Latitude vs. Cloudiness(8/22/18)')\n",
    "plt.xlabel('Latitude')\n",
    "plt.ylabel('Cloudiness (%)')\n",
    "plt.savefig('plotlatitudevscloudiness')\n",
    "plt.show()"
   ]
  },
  {
   "cell_type": "markdown",
   "metadata": {},
   "source": [
    "## Latitude vs. Wind Speed Plot"
   ]
  },
  {
   "cell_type": "code",
   "execution_count": 24,
   "metadata": {},
   "outputs": [
    {
     "data": {
      "image/png": "[encoded data removed]",
      "text/plain": [
       "<Figure size 432x288 with 1 Axes>"
      ]
     },
     "metadata": {
      "needs_background": "light"
     },
     "output_type": "display_data"
    }
   ],
   "source": [
    "#Latitude vs. Wind Speed Plot\n",
    "lat_windspd = weather_data[\"Wind Speed\"]\n",
    "\n",
    "plt.scatter(lat_temp,lat_windspd)\n",
    "plt.title('City Latitude vs. Wind Speed(5/28/19)')\n",
    "plt.xlabel('Latitude')\n",
    "plt.ylabel('Wind Speed (mph)')\n",
    "plt.savefig('plotlatitudevswindspeed')\n",
    "plt.show()"
   ]
  },
  {
   "cell_type": "markdown",
   "metadata": {},
   "source": [
    "## Linear Regression"
   ]
  },
  {
   "cell_type": "code",
   "execution_count": 46,
   "metadata": {},
   "outputs": [],
   "source": [
    "#establish northern and southern dataframes\n",
    "northem = weather_df.loc[weather_df[\"Latitude\"] >= 0,:]\n",
    "southem = weather_df.loc[weather_df[\"Latitude\"] < 0,:]\n",
    "import scipy.stats as stat"
   ]
  },
  {
   "cell_type": "markdown",
   "metadata": {},
   "source": [
    "####  Northern Hemisphere - Max Temp vs. Latitude Linear Regression"
   ]
  },
  {
   "cell_type": "code",
   "execution_count": 92,
   "metadata": {},
   "outputs": [],
   "source": [
    "#define the linear regression\n",
    "def linear_regression(xvalues, yvalues, title, coordinates):\n",
    "    (slope, intercept, rvalue, pvalue, stderr) = stat.linregress(xvalues, yvalues)\n",
    "    values = xvalues * slope + intercept\n",
    "    line_eq = \"y = \" + str(round(slope,2)) + \"x + \" + str(round(intercept,2))\n",
    "    plt.scatter(xvalues,yvalues)\n",
    "    plt.plot(xvalues,values,\"r-\")\n",
    "    plt.annotate(line_eq, coordinates, fontsize=14, color='red')\n",
    "    plt.xlabel('Latitude')\n",
    "    print(f\"The r value is: {rvalue}\")\n",
    "    plt.ylabel(title)\n",
    "    plt.show()\n",
    "    "
   ]
  },
  {
   "cell_type": "code",
   "execution_count": 101,
   "metadata": {},
   "outputs": [
    {
     "name": "stdout",
     "output_type": "stream",
     "text": [
      "The r value is: -0.6432127174681028\n"
     ]
    },
    {
     "data": {
      "image/png": "[encoded data removed]",
      "text/plain": [
       "<Figure size 432x288 with 1 Axes>"
      ]
     },
     "metadata": {
      "needs_background": "light"
     },
     "output_type": "display_data"
    },
    {
     "name": "stdout",
     "output_type": "stream",
     "text": [
      "The r-value is: -0.6432127174681028\n"
     ]
    },
    {
     "data": {
      "text/plain": [
       "<Figure size 432x288 with 0 Axes>"
      ]
     },
     "metadata": {},
     "output_type": "display_data"
    }
   ],
   "source": [
    "xvalues = northem['Latitude']\n",
    "yvalues = northem['Max Temp']\n",
    "linear_regression(xvalues, yvalues, 'Max Temp', (8,35)) \n",
    "\n",
    "plt.savefig('northem_lat_temp.png')\n",
    "print(f\"The r-value is: {rvalue}\")\n",
    "\n",
    "\n",
    "#Observation\n",
    "#There is a negative relationship between latitude and max temperature in the Northern hemisphere')\n",
    "\n"
   ]
  },
  {
   "cell_type": "markdown",
   "metadata": {},
   "source": [
    "####  Southern Hemisphere - Max Temp vs. Latitude Linear Regression"
   ]
  },
  {
   "cell_type": "code",
   "execution_count": 94,
   "metadata": {},
   "outputs": [
    {
     "name": "stdout",
     "output_type": "stream",
     "text": [
      "The r value is: 0.8107095510746869\n"
     ]
    },
    {
     "data": {
      "image/png": "[encoded data removed]",
      "text/plain": [
       "<Figure size 432x288 with 1 Axes>"
      ]
     },
     "metadata": {
      "needs_background": "light"
     },
     "output_type": "display_data"
    },
    {
     "name": "stdout",
     "output_type": "stream",
     "text": [
      "The r-value is: -0.6432127174681028\n"
     ]
    },
    {
     "data": {
      "text/plain": [
       "<Figure size 432x288 with 0 Axes>"
      ]
     },
     "metadata": {},
     "output_type": "display_data"
    }
   ],
   "source": [
    "xvalues = southem['Latitude']\n",
    "yvalues = southem['Max Temp']\n",
    "linear_regression(xvalues, yvalues, 'Max Temp', (8,35)) \n",
    "\n",
    "plt.savefig('southem_lat_temp.png')\n",
    "print(f\"The r-value is: {rvalue}\")\n",
    "\n",
    "#Observation \n",
    "#There is a positive relationship between latitude and max temperature in the Southern hemisphere"
   ]
  },
  {
   "cell_type": "markdown",
   "metadata": {},
   "source": [
    "####  Northern Hemisphere - Humidity (%) vs. Latitude Linear Regression"
   ]
  },
  {
   "cell_type": "code",
   "execution_count": 95,
   "metadata": {},
   "outputs": [
    {
     "name": "stdout",
     "output_type": "stream",
     "text": [
      "The r value is: -0.024441546813411024\n"
     ]
    },
    {
     "data": {
      "image/png": "[encoded data removed]",
      "text/plain": [
       "<Figure size 432x288 with 1 Axes>"
      ]
     },
     "metadata": {
      "needs_background": "light"
     },
     "output_type": "display_data"
    },
    {
     "name": "stdout",
     "output_type": "stream",
     "text": [
      "The r-value is: -0.6432127174681028\n"
     ]
    },
    {
     "data": {
      "text/plain": [
       "<Figure size 432x288 with 0 Axes>"
      ]
     },
     "metadata": {},
     "output_type": "display_data"
    }
   ],
   "source": [
    "xvalues = northem[\"Latitude\"]\n",
    "yvalues = northem[\"Humidity\"]\n",
    "linear_regression(xvalues, yvalues,'Humidity',(6,30))\n",
    "\n",
    "plt.savefig('northem_hum_lat')\n",
    "print(f\"The r-value is: {rvalue}\")\n",
    "#observation\n",
    "#There is weak negative relationship between latitude and humidity in the Northern hemisphere')"
   ]
  },
  {
   "cell_type": "markdown",
   "metadata": {},
   "source": [
    "####  Southern Hemisphere - Humidity (%) vs. Latitude Linear Regression"
   ]
  },
  {
   "cell_type": "code",
   "execution_count": 96,
   "metadata": {},
   "outputs": [
    {
     "name": "stdout",
     "output_type": "stream",
     "text": [
      "The r value is: 0.08827307716231861\n"
     ]
    },
    {
     "data": {
      "image/png": "[encoded data removed]",
      "text/plain": [
       "<Figure size 432x288 with 1 Axes>"
      ]
     },
     "metadata": {
      "needs_background": "light"
     },
     "output_type": "display_data"
    },
    {
     "name": "stdout",
     "output_type": "stream",
     "text": [
      "The r-value is: -0.6432127174681028\n"
     ]
    },
    {
     "data": {
      "text/plain": [
       "<Figure size 432x288 with 0 Axes>"
      ]
     },
     "metadata": {},
     "output_type": "display_data"
    }
   ],
   "source": [
    "xvalues = southem[\"Latitude\"]\n",
    "yvalues = southem[\"Humidity\"]\n",
    "linear_regression(xvalues, yvalues,'Humidity',(6,30))\n",
    "\n",
    "plt.savefig('southem_hum_lat')\n",
    "print(f\"The r-value is: {rvalue}\")\n",
    "\n",
    "#Observation\n",
    "#There is weak positive relationship between latitude and humidity in the southern hemisphere"
   ]
  },
  {
   "cell_type": "markdown",
   "metadata": {},
   "source": [
    "####  Northern Hemisphere - Cloudiness (%) vs. Latitude Linear Regression"
   ]
  },
  {
   "cell_type": "code",
   "execution_count": 97,
   "metadata": {},
   "outputs": [
    {
     "name": "stdout",
     "output_type": "stream",
     "text": [
      "The r value is: -0.09738048952155481\n"
     ]
    },
    {
     "data": {
      "image/png": "[encoded data removed]",
      "text/plain": [
       "<Figure size 432x288 with 1 Axes>"
      ]
     },
     "metadata": {
      "needs_background": "light"
     },
     "output_type": "display_data"
    },
    {
     "name": "stdout",
     "output_type": "stream",
     "text": [
      "The r-value is: -0.6432127174681028\n"
     ]
    },
    {
     "data": {
      "text/plain": [
       "<Figure size 432x288 with 0 Axes>"
      ]
     },
     "metadata": {},
     "output_type": "display_data"
    }
   ],
   "source": [
    "xvalues = northem[\"Latitude\"]\n",
    "yvalues = northem[\"Cloudiness\"]\n",
    "linear_regression(xvalues, yvalues,'Cloudiness',(3,15))\n",
    "\n",
    "plt.savefig('northem_cloud_lat')\n",
    "print(f\"The r-value is: {rvalue}\")\n",
    "\n",
    "#Observation\n",
    "#There is a weak negative relationship between cloudines and latitude in the Northern Hemisphere"
   ]
  },
  {
   "cell_type": "markdown",
   "metadata": {},
   "source": [
    "####  Southern Hemisphere - Cloudiness (%) vs. Latitude Linear Regression"
   ]
  },
  {
   "cell_type": "code",
   "execution_count": 98,
   "metadata": {},
   "outputs": [
    {
     "name": "stdout",
     "output_type": "stream",
     "text": [
      "The r value is: -0.007706117799289192\n"
     ]
    },
    {
     "data": {
      "image/png": "[encoded data removed]",
      "text/plain": [
       "<Figure size 432x288 with 1 Axes>"
      ]
     },
     "metadata": {
      "needs_background": "light"
     },
     "output_type": "display_data"
    },
    {
     "data": {
      "text/plain": [
       "<Figure size 432x288 with 0 Axes>"
      ]
     },
     "metadata": {},
     "output_type": "display_data"
    }
   ],
   "source": [
    "xvalues = southem[\"Latitude\"]\n",
    "yvalues = southem[\"Cloudiness\"]\n",
    "linear_regression(xvalues, yvalues,'Cloudiness',(6,30))\n",
    "\n",
    "plt.savefig('southem_cloud_lat')\n",
    "\n",
    "#observation\n",
    "#There is a weak negative relationship between cloudiness and latitude in the Southern hemisphere"
   ]
  },
  {
   "cell_type": "markdown",
   "metadata": {},
   "source": [
    "####  Northern Hemisphere - Wind Speed (mph) vs. Latitude Linear Regression"
   ]
  },
  {
   "cell_type": "code",
   "execution_count": 99,
   "metadata": {},
   "outputs": [
    {
     "name": "stdout",
     "output_type": "stream",
     "text": [
      "The r value is: -0.09738048952155481\n"
     ]
    },
    {
     "data": {
      "image/png": "[encoded data removed]",
      "text/plain": [
       "<Figure size 432x288 with 1 Axes>"
      ]
     },
     "metadata": {
      "needs_background": "light"
     },
     "output_type": "display_data"
    },
    {
     "data": {
      "text/plain": [
       "<Figure size 432x288 with 0 Axes>"
      ]
     },
     "metadata": {},
     "output_type": "display_data"
    }
   ],
   "source": [
    "xvalues = northem[\"Latitude\"]\n",
    "yvalues = northem[\"Cloudiness\"]\n",
    "linear_regression(xvalues, yvalues,'Cloudiness',(6,30))\n",
    "\n",
    "plt.savefig('northem_cloud_lat')\n",
    "\n",
    "#Observation\n",
    "#There is negative relationship between wind speed and latitude in the Nothern hemisphere"
   ]
  },
  {
   "cell_type": "markdown",
   "metadata": {},
   "source": [
    "####  Southern Hemisphere - Wind Speed (mph) vs. Latitude Linear Regression"
   ]
  },
  {
   "cell_type": "code",
   "execution_count": 103,
   "metadata": {},
   "outputs": [
    {
     "name": "stdout",
     "output_type": "stream",
     "text": [
      "The r value is: -0.25685552046335575\n"
     ]
    },
    {
     "data": {
      "image/png": "[encoded data removed]",
      "text/plain": [
       "<Figure size 432x288 with 1 Axes>"
      ]
     },
     "metadata": {
      "needs_background": "light"
     },
     "output_type": "display_data"
    },
    {
     "data": {
      "text/plain": [
       "<Figure size 432x288 with 0 Axes>"
      ]
     },
     "metadata": {},
     "output_type": "display_data"
    }
   ],
   "source": [
    "xvalues = southem[\"Latitude\"]\n",
    "yvalues = southem[\"Wind Speed\"]\n",
    "linear_regression(xvalues, yvalues,'Wind Speed',(6,30))\n",
    "\n",
    "plt.savefig('southem_wind_lat')\n",
    "\n",
    "#Observation\n",
    "#There is a negative relationship between wind speed and latitude in the Southern hemisphere"
   ]
  },
  {
   "cell_type": "code",
   "execution_count": null,
   "metadata": {},
   "outputs": [],
   "source": []
  }
 ],
 "metadata": {
  "anaconda-cloud": {},
  "kernel_info": {
   "name": "python3"
  },
  "kernelspec": {
   "display_name": "Python 3",
   "language": "python",
   "name": "python3"
  },
  "language_info": {
   "codemirror_mode": {
    "name": "ipython",
    "version": 3
   },
   "file_extension": ".py",
   "mimetype": "text/x-python",
   "name": "python",
   "nbconvert_exporter": "python",
   "pygments_lexer": "ipython3",
   "version": "3.8.5"
  },
  "latex_envs": {
   "LaTeX_envs_menu_present": true,
   "autoclose": false,
   "autocomplete": true,
   "bibliofile": "biblio.bib",
   "cite_by": "apalike",
   "current_citInitial": 1,
   "eqLabelWithNumbers": true,
   "eqNumInitial": 1,
   "hotkeys": {
    "equation": "Ctrl-E",
    "itemize": "Ctrl-I"
   },
   "labels_anchors": false,
   "latex_user_defs": false,
   "report_style_numbering": false,
   "user_envs_cfg": false
  },
  "nteract": {
   "version": "0.12.3"
  }
 },
 "nbformat": 4,
 "nbformat_minor": 2
}
